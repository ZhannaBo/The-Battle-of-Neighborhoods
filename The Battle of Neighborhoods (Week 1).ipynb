{
 "cells": [
  {
   "cell_type": "markdown",
   "id": "ccf3e6b4",
   "metadata": {},
   "source": [
    "**The Battle of Neighborhoods Amsterdam city, \n",
    "The Netherlands**"
   ]
  },
  {
   "cell_type": "markdown",
   "id": "5ccdd7bf",
   "metadata": {},
   "source": [
    "Amsterdam is the commercial capital of the Netherlands and one of the top financial centers in Europe. Many International Corporates have stablished their European headquarters in Amsterdam."
   ]
  },
  {
   "cell_type": "markdown",
   "id": "e7a19a53",
   "metadata": {},
   "source": [
    "Amsterdam city metropolitan area has been selected due to its unique position as the official capital city of The Netherlands, the vibrant city life, multinational demographics, and as well a very popular destination for tourists.\n",
    "Amsterdam metropolitan area has excellent public transport infrastructure, including its famous cycling paths. The city has a large variety of museums, clubs, natural, and sports centers, public markets and coffee-shops / restaurants."
   ]
  },
  {
   "cell_type": "markdown",
   "id": "fa8cbf0a",
   "metadata": {},
   "source": [
    "Amsterdam is a relatively expensive city, very popular within the expat’s community living and working in The Netherlands. Demographics will be addressed at the data section below."
   ]
  },
  {
   "cell_type": "markdown",
   "id": "843f4a49",
   "metadata": {},
   "source": [
    "Our company has to make an analytical project that will support decision making for the new restaurant location, considering the viable options discovered, and based on specific data and criteria discussed below."
   ]
  },
  {
   "cell_type": "markdown",
   "id": "cfba010c",
   "metadata": {},
   "source": [
    "The new restaurant is planned to be of a new concept of high-quality top international cuisine that is expected to compete well within the large diversity of restaurants. However, the exact restaurant type might change, after the full analysis provides more insights based on location, demographics and spending power.\n",
    "The main problem to be resolved is to find the optimal location in Amsterdam city and surroundings that would allow the business to de quickly deployed – the untapped locations."
   ]
  },
  {
   "cell_type": "markdown",
   "id": "c913a458",
   "metadata": {},
   "source": [
    "The data used for acquisition and preprocessing in this project will be open public data available from:\n",
    "- https://en.wikipedia.org/wiki/Boroughs_of_Amsterdam\n",
    "- https://en.wikipedia.org/wiki/Amsterdam\n",
    "- https://data.amsterdam.nl\n",
    "- https://www.europeandataportal.eu/en/news/explore-datasets-municipality-amsterdam"
   ]
  },
  {
   "cell_type": "markdown",
   "id": "3616dc41",
   "metadata": {},
   "source": [
    "We will be using Wikipedia information set to retrieve Amsterdam Boroughs data, Foursquare API and geopy data together with data from Amsterdam open data portal to retrieve venues information in Amsterdam Boroughs and process them using location clustering and filter / count relevant information (we are interested in restaurants locations)."
   ]
  },
  {
   "cell_type": "markdown",
   "id": "4eb2dc5b",
   "metadata": {},
   "source": [
    "The dataset used for the analysis and feature extraction will include:\n",
    "- Amsterdam boroughs / neighborhoods\n",
    "- Venue type and locations (Foursquare API)\n",
    "- Boroughs segmentation\n",
    "- Geolocation data\n",
    "- Boroughs Demographics\n",
    "- Cuisine types (optional) as Amsterdam is mixed international cuisine\n",
    "- Supply chain availability (fresh products direct from producers)"
   ]
  },
  {
   "cell_type": "markdown",
   "id": "080ef054",
   "metadata": {},
   "source": [
    "We will perform the data preprocessing, cleaning, filtering, analysis / clustering of the venues. We will determine the number of restaurants per location (Borough), identify potential untapped locations, and use demographics to determine the potential business value for the location. As a result we provide a conclusion with options where is the best location to open the new restaurant."
   ]
  }
 ],
 "metadata": {
  "kernelspec": {
   "display_name": "Python",
   "language": "python",
   "name": "conda-env-python-py"
  },
  "language_info": {
   "codemirror_mode": {
    "name": "ipython",
    "version": 3
   },
   "file_extension": ".py",
   "mimetype": "text/x-python",
   "name": "python",
   "nbconvert_exporter": "python",
   "pygments_lexer": "ipython3",
   "version": "3.6.13"
  }
 },
 "nbformat": 4,
 "nbformat_minor": 5
}
