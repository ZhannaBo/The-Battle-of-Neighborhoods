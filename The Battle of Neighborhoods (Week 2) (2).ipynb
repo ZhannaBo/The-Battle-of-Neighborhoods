{
 "cells": [
  {
   "cell_type": "code",
   "execution_count": 1,
   "id": "c462a897",
   "metadata": {},
   "outputs": [
    {
     "name": "stdout",
     "output_type": "stream",
     "text": [
      "Collecting geocoder\n",
      "\u001b[?25l  Downloading https://files.pythonhosted.org/packages/4f/6b/13166c909ad2f2d76b929a4227c952630ebaf0d729f6317eb09cbceccbab/geocoder-1.38.1-py2.py3-none-any.whl (98kB)\n",
      "\u001b[K     |████████████████████████████████| 102kB 18.4MB/s ta 0:00:01\n",
      "\u001b[?25hRequirement already satisfied: click in /home/jupyterlab/conda/envs/python/lib/python3.6/site-packages (from geocoder) (8.0.0)\n",
      "Requirement already satisfied: requests in /home/jupyterlab/conda/envs/python/lib/python3.6/site-packages (from geocoder) (2.25.1)\n",
      "Collecting ratelim (from geocoder)\n",
      "  Downloading https://files.pythonhosted.org/packages/f2/98/7e6d147fd16a10a5f821db6e25f192265d6ecca3d82957a4fdd592cad49c/ratelim-0.1.6-py2.py3-none-any.whl\n",
      "Requirement already satisfied: six in /home/jupyterlab/conda/envs/python/lib/python3.6/site-packages (from geocoder) (1.16.0)\n",
      "Requirement already satisfied: future in /home/jupyterlab/conda/envs/python/lib/python3.6/site-packages (from geocoder) (0.18.2)\n",
      "Requirement already satisfied: idna<3,>=2.5 in /home/jupyterlab/conda/envs/python/lib/python3.6/site-packages (from requests->geocoder) (2.10)\n",
      "Requirement already satisfied: urllib3<1.27,>=1.21.1 in /home/jupyterlab/conda/envs/python/lib/python3.6/site-packages (from requests->geocoder) (1.26.4)\n",
      "Requirement already satisfied: certifi>=2017.4.17 in /home/jupyterlab/conda/envs/python/lib/python3.6/site-packages (from requests->geocoder) (2020.12.5)\n",
      "Requirement already satisfied: chardet<5,>=3.0.2 in /home/jupyterlab/conda/envs/python/lib/python3.6/site-packages (from requests->geocoder) (4.0.0)\n",
      "Requirement already satisfied: decorator in /home/jupyterlab/conda/envs/python/lib/python3.6/site-packages (from ratelim->geocoder) (4.4.2)\n",
      "Installing collected packages: ratelim, geocoder\n",
      "Successfully installed geocoder-1.38.1 ratelim-0.1.6\n",
      "Requirement already satisfied: folium in /home/jupyterlab/conda/envs/python/lib/python3.6/site-packages (0.5.0)\n",
      "Requirement already satisfied: requests in /home/jupyterlab/conda/envs/python/lib/python3.6/site-packages (from folium) (2.25.1)\n",
      "Requirement already satisfied: six in /home/jupyterlab/conda/envs/python/lib/python3.6/site-packages (from folium) (1.16.0)\n",
      "Requirement already satisfied: branca in /home/jupyterlab/conda/envs/python/lib/python3.6/site-packages (from folium) (0.4.2)\n",
      "Requirement already satisfied: jinja2 in /home/jupyterlab/conda/envs/python/lib/python3.6/site-packages (from folium) (3.0.0)\n",
      "Requirement already satisfied: idna<3,>=2.5 in /home/jupyterlab/conda/envs/python/lib/python3.6/site-packages (from requests->folium) (2.10)\n",
      "Requirement already satisfied: urllib3<1.27,>=1.21.1 in /home/jupyterlab/conda/envs/python/lib/python3.6/site-packages (from requests->folium) (1.26.4)\n",
      "Requirement already satisfied: certifi>=2017.4.17 in /home/jupyterlab/conda/envs/python/lib/python3.6/site-packages (from requests->folium) (2020.12.5)\n",
      "Requirement already satisfied: chardet<5,>=3.0.2 in /home/jupyterlab/conda/envs/python/lib/python3.6/site-packages (from requests->folium) (4.0.0)\n",
      "Requirement already satisfied: MarkupSafe>=2.0.0rc2 in /home/jupyterlab/conda/envs/python/lib/python3.6/site-packages (from jinja2->folium) (2.0.0)\n",
      "Packages installed.\n"
     ]
    }
   ],
   "source": [
    "import sys\n",
    "!{sys.executable} -m pip install geocoder\n",
    "!{sys.executable} -m pip install folium\n",
    "\n",
    "print('Packages installed.')"
   ]
  },
  {
   "cell_type": "code",
   "execution_count": 2,
   "id": "d1ed180a",
   "metadata": {},
   "outputs": [
    {
     "name": "stdout",
     "output_type": "stream",
     "text": [
      "Collecting BeautifulSoup4\n",
      "\u001b[?25l  Downloading https://files.pythonhosted.org/packages/d1/41/e6495bd7d3781cee623ce23ea6ac73282a373088fcd0ddc809a047b18eae/beautifulsoup4-4.9.3-py3-none-any.whl (115kB)\n",
      "\u001b[K     |████████████████████████████████| 122kB 17.0MB/s eta 0:00:01\n",
      "\u001b[?25hCollecting soupsieve>1.2; python_version >= \"3.0\" (from BeautifulSoup4)\n",
      "  Downloading https://files.pythonhosted.org/packages/36/69/d82d04022f02733bf9a72bc3b96332d360c0c5307096d76f6bb7489f7e57/soupsieve-2.2.1-py3-none-any.whl\n",
      "Installing collected packages: soupsieve, BeautifulSoup4\n",
      "Successfully installed BeautifulSoup4-4.9.3 soupsieve-2.2.1\n",
      "Note: you may need to restart the kernel to use updated packages.\n"
     ]
    }
   ],
   "source": [
    "pip install BeautifulSoup4"
   ]
  },
  {
   "cell_type": "code",
   "execution_count": 3,
   "id": "52bc18e5",
   "metadata": {},
   "outputs": [
    {
     "name": "stdout",
     "output_type": "stream",
     "text": [
      "Collecting Nominatim\n",
      "  Downloading https://files.pythonhosted.org/packages/59/f2/d47726f804208804f7f295e20a9d2ee4ea925fb6462481223464026bcf66/nominatim-0.1.tar.gz\n",
      "Building wheels for collected packages: Nominatim\n",
      "  Building wheel for Nominatim (setup.py) ... \u001b[?25ldone\n",
      "\u001b[?25h  Stored in directory: /home/jupyterlab/.cache/pip/wheels/d5/66/ed/e7476981dc30210b6b5ce7c25b054e8db35d44fdd2198003d4\n",
      "Successfully built Nominatim\n",
      "Installing collected packages: Nominatim\n",
      "Successfully installed Nominatim-0.1\n",
      "Note: you may need to restart the kernel to use updated packages.\n"
     ]
    }
   ],
   "source": [
    "pip install Nominatim"
   ]
  },
  {
   "cell_type": "code",
   "execution_count": 4,
   "id": "ff9dcc5d",
   "metadata": {},
   "outputs": [
    {
     "name": "stdout",
     "output_type": "stream",
     "text": [
      "Collecting geopy\n",
      "\u001b[?25l  Downloading https://files.pythonhosted.org/packages/0c/67/915668d0e286caa21a1da82a85ffe3d20528ec7212777b43ccd027d94023/geopy-2.1.0-py3-none-any.whl (112kB)\n",
      "\u001b[K     |████████████████████████████████| 112kB 18.0MB/s eta 0:00:01\n",
      "\u001b[?25hCollecting geographiclib<2,>=1.49 (from geopy)\n",
      "  Downloading https://files.pythonhosted.org/packages/8b/62/26ec95a98ba64299163199e95ad1b0e34ad3f4e176e221c40245f211e425/geographiclib-1.50-py3-none-any.whl\n",
      "Installing collected packages: geographiclib, geopy\n",
      "Successfully installed geographiclib-1.50 geopy-2.1.0\n",
      "Note: you may need to restart the kernel to use updated packages.\n"
     ]
    }
   ],
   "source": [
    "pip install geopy"
   ]
  },
  {
   "cell_type": "code",
   "execution_count": 5,
   "id": "c19d18bc",
   "metadata": {},
   "outputs": [],
   "source": [
    "import requests\n",
    "import math\n",
    "import folium\n",
    "import geocoder\n",
    "import pandas as pd\n",
    "pd.set_option('display.max_columns', None)\n",
    "pd.set_option('display.max_rows', None)\n",
    "import numpy as np\n",
    "from bs4 import BeautifulSoup\n",
    "from geopy.geocoders import Nominatim # convert an address into latitude and longitude values\n",
    "import matplotlib.cm as cm  # Matplotlib and associated plotting modules\n",
    "import matplotlib.colors as colors\n",
    "from matplotlib import pyplot as plt\n",
    "from sklearn import metrics \n",
    "from scipy.spatial.distance import cdist\n",
    "from sklearn.cluster import KMeans # KMeans for clustering\n",
    "# libraries for displaying images\n",
    "from IPython.display import Image \n",
    "from IPython.core.display import HTML\n",
    "# tranforming json file into a pandas dataframe library\n",
    "from pandas.io.json import json_normalize\n",
    "import json\n",
    "import seaborn as sns\n",
    "sns.set_style('darkgrid')"
   ]
  },
  {
   "cell_type": "code",
   "execution_count": 6,
   "id": "68483f06",
   "metadata": {},
   "outputs": [],
   "source": [
    "url = 'https://en.wikipedia.org/wiki/Boroughs_of_Amsterdam'"
   ]
  },
  {
   "cell_type": "code",
   "execution_count": 7,
   "id": "36e66262",
   "metadata": {},
   "outputs": [
    {
     "name": "stdout",
     "output_type": "stream",
     "text": [
      "                   Borough       Area  Population Population density  \\\n",
      "0         Centrum (Centre)   8.04 km²       86422         13,748/km²   \n",
      "1            Noord (North)  49.01 km²       94766          2,269/km²   \n",
      "2     Nieuw-West(New West)  32.38 km²      151677          4,478/km²   \n",
      "3              Oost (East)  30.56 km²      135767          7,635/km²   \n",
      "4                     West   9.89 km²      143842         15,252/km²   \n",
      "5  Westpoort(West Gateway)     10 km²         192             10/km²   \n",
      "6             Zuid (South)  17.41 km²      144432          9,349/km²   \n",
      "7      Zuidoost(Southeast)  22.08 km²       87854          4,391/km²   \n",
      "\n",
      "   Location (in green)                                     Neighbourhoods  \n",
      "0                  NaN  Binnenstad, Grachtengordel, Haarlemmerbuurt, J...  \n",
      "1                  NaN  Banne Buiksloot, Buiksloot, Buikslotermeer, Fl...  \n",
      "2                  NaN  Geuzenveld, Nieuw Sloten, Oostoever, Osdorp, O...  \n",
      "3                  NaN  IJburg, Indische Buurt, Eastern Docklands, Oud...  \n",
      "4                  NaN  Frederik Hendrikbuurt, Houthaven, Spaarndammer...  \n",
      "5                  NaN                                          Westpoort  \n",
      "6                  NaN  Apollobuurt, Buitenveldert, Hoofddorppleinbuur...  \n",
      "7                  NaN    Bijlmermeer, Venserpolder, Gaasperdam, Driemond  \n"
     ]
    }
   ],
   "source": [
    "table = pd.read_html(url)\n",
    "\n",
    "# Boroughs\n",
    "print(table[1])  # index 1 returns the 2nd table from the web page"
   ]
  },
  {
   "cell_type": "code",
   "execution_count": 8,
   "id": "2dd5e72a",
   "metadata": {},
   "outputs": [
    {
     "name": "stdout",
     "output_type": "stream",
     "text": [
      "                   Borough       Area  Population Population density  \\\n",
      "0         Centrum (Centre)   8.04 km²       86422         13,748/km²   \n",
      "1            Noord (North)  49.01 km²       94766          2,269/km²   \n",
      "2     Nieuw-West(New West)  32.38 km²      151677          4,478/km²   \n",
      "3              Oost (East)  30.56 km²      135767          7,635/km²   \n",
      "4                     West   9.89 km²      143842         15,252/km²   \n",
      "5  Westpoort(West Gateway)     10 km²         192             10/km²   \n",
      "6             Zuid (South)  17.41 km²      144432          9,349/km²   \n",
      "7      Zuidoost(Southeast)  22.08 km²       87854          4,391/km²   \n",
      "\n",
      "   Location (in green)                                     Neighbourhoods  \n",
      "0                  NaN  Binnenstad, Grachtengordel, Haarlemmerbuurt, J...  \n",
      "1                  NaN  Banne Buiksloot, Buiksloot, Buikslotermeer, Fl...  \n",
      "2                  NaN  Geuzenveld, Nieuw Sloten, Oostoever, Osdorp, O...  \n",
      "3                  NaN  IJburg, Indische Buurt, Eastern Docklands, Oud...  \n",
      "4                  NaN  Frederik Hendrikbuurt, Houthaven, Spaarndammer...  \n",
      "5                  NaN                                          Westpoort  \n",
      "6                  NaN  Apollobuurt, Buitenveldert, Hoofddorppleinbuur...  \n",
      "7                  NaN    Bijlmermeer, Venserpolder, Gaasperdam, Driemond  \n"
     ]
    }
   ],
   "source": [
    "# Create Borough data frame - bor_df\n",
    "bor_df = pd.DataFrame(table[1])\n",
    "print(bor_df)"
   ]
  },
  {
   "cell_type": "code",
   "execution_count": 9,
   "id": "b800b15e",
   "metadata": {},
   "outputs": [
    {
     "name": "stdout",
     "output_type": "stream",
     "text": [
      "      Borough  Population                                     Neighbourhoods\n",
      "0     Centrum       86422  Binnenstad, Grachtengordel, Haarlemmerbuurt, J...\n",
      "1       Noord       94766  Banne Buiksloot, Buiksloot, Buikslotermeer, Fl...\n",
      "2  Nieuw-West      151677  Geuzenveld, Nieuw Sloten, Oostoever, Osdorp, O...\n",
      "3        Oost      135767  IJburg, Indische Buurt, Eastern Docklands, Oud...\n",
      "4        West      143842  Frederik Hendrikbuurt, Houthaven, Spaarndammer...\n",
      "5   Westpoort         192                                          Westpoort\n",
      "6        Zuid      144432  Apollobuurt, Buitenveldert, Hoofddorppleinbuur...\n",
      "7    Zuidoost       87854    Bijlmermeer, Venserpolder, Gaasperdam, Driemond\n"
     ]
    }
   ],
   "source": [
    "# Dropping unnecessary columns, we keep only Boroughs and Population\n",
    "bor_df = bor_df.drop(['Area', 'Population density', 'Location (in green)'],1)\n",
    "bor_df.replace({'Centrum (Centre)':'Centrum', 'Noord (North)':'Noord', 'Nieuw-West(New West)':'Nieuw-West',\n",
    "                    'Oost (East)':'Oost', 'Westpoort(West Gateway)':'Westpoort', 'Zuid (South)':'Zuid', \n",
    "                    'Zuidoost(Southeast)':'Zuidoost'}, inplace=True)\n",
    "\n",
    "print(bor_df)\n",
    "bor_df.to_csv('Boroughs.csv')"
   ]
  },
  {
   "cell_type": "code",
   "execution_count": 10,
   "id": "f7e6d183",
   "metadata": {},
   "outputs": [
    {
     "name": "stdout",
     "output_type": "stream",
     "text": [
      "                       vteNeighborhoods of Amsterdam  \\\n",
      "0                                            Centrum   \n",
      "1                                         Nieuw-West   \n",
      "2                                              Noord   \n",
      "3                                               Oost   \n",
      "4                                               West   \n",
      "5                                               Zuid   \n",
      "6                                           Zuidoost   \n",
      "7                                          Westpoort   \n",
      "8  Former boroughs: De Baarsjes - Geuzenveld-Slot...   \n",
      "\n",
      "                     vteNeighborhoods of Amsterdam.1  \\\n",
      "0  Binnenstad (Oude Zijde - Nieuwe Zijde) Grachte...   \n",
      "1  Geuzenveld (De Eendracht) Nieuw Sloten Oostoev...   \n",
      "2  Banne Buiksloot Buiksloot Buikslotermeer Flora...   \n",
      "3  IJburg (Haveneiland - Rieteilanden - Steigerei...   \n",
      "4  Admiralenbuurt Bos en Lommer (Kolenkitbuurt - ...   \n",
      "5  Apollobuurt Buitenveldert Hoofddorppleinbuurt ...   \n",
      "6  Bijlmer Bullewijk Driemond Gaasperdam Holendre...   \n",
      "7          Teleport Westelijk Havengebied (Ruigoord)   \n",
      "8  Former boroughs: De Baarsjes - Geuzenveld-Slot...   \n",
      "\n",
      "                     vteNeighborhoods of Amsterdam.2  \n",
      "0                                                NaN  \n",
      "1                                                NaN  \n",
      "2                                                NaN  \n",
      "3                                                NaN  \n",
      "4                                                NaN  \n",
      "5                                                NaN  \n",
      "6                                                NaN  \n",
      "7                                                NaN  \n",
      "8  Former boroughs: De Baarsjes - Geuzenveld-Slot...  \n"
     ]
    }
   ],
   "source": [
    "# Neighborhoods\n",
    "print(table[3])  # index 3 returns the 4th table from the web page"
   ]
  },
  {
   "cell_type": "code",
   "execution_count": 11,
   "id": "4cd264f7",
   "metadata": {},
   "outputs": [
    {
     "name": "stdout",
     "output_type": "stream",
     "text": [
      "                       vteNeighborhoods of Amsterdam  \\\n",
      "0                                            Centrum   \n",
      "1                                         Nieuw-West   \n",
      "2                                              Noord   \n",
      "3                                               Oost   \n",
      "4                                               West   \n",
      "5                                               Zuid   \n",
      "6                                           Zuidoost   \n",
      "7                                          Westpoort   \n",
      "8  Former boroughs: De Baarsjes - Geuzenveld-Slot...   \n",
      "\n",
      "                     vteNeighborhoods of Amsterdam.1  \\\n",
      "0  Binnenstad (Oude Zijde - Nieuwe Zijde) Grachte...   \n",
      "1  Geuzenveld (De Eendracht) Nieuw Sloten Oostoev...   \n",
      "2  Banne Buiksloot Buiksloot Buikslotermeer Flora...   \n",
      "3  IJburg (Haveneiland - Rieteilanden - Steigerei...   \n",
      "4  Admiralenbuurt Bos en Lommer (Kolenkitbuurt - ...   \n",
      "5  Apollobuurt Buitenveldert Hoofddorppleinbuurt ...   \n",
      "6  Bijlmer Bullewijk Driemond Gaasperdam Holendre...   \n",
      "7          Teleport Westelijk Havengebied (Ruigoord)   \n",
      "8  Former boroughs: De Baarsjes - Geuzenveld-Slot...   \n",
      "\n",
      "                     vteNeighborhoods of Amsterdam.2  \n",
      "0                                                NaN  \n",
      "1                                                NaN  \n",
      "2                                                NaN  \n",
      "3                                                NaN  \n",
      "4                                                NaN  \n",
      "5                                                NaN  \n",
      "6                                                NaN  \n",
      "7                                                NaN  \n",
      "8  Former boroughs: De Baarsjes - Geuzenveld-Slot...  \n"
     ]
    }
   ],
   "source": [
    "# Create Neighborhood data frame - ne_df\n",
    "ne_df = pd.DataFrame(table[3])\n",
    "print(ne_df)"
   ]
  },
  {
   "cell_type": "code",
   "execution_count": 12,
   "id": "5c2b9b36",
   "metadata": {},
   "outputs": [
    {
     "data": {
      "text/html": [
       "<div>\n",
       "<style scoped>\n",
       "    .dataframe tbody tr th:only-of-type {\n",
       "        vertical-align: middle;\n",
       "    }\n",
       "\n",
       "    .dataframe tbody tr th {\n",
       "        vertical-align: top;\n",
       "    }\n",
       "\n",
       "    .dataframe thead th {\n",
       "        text-align: right;\n",
       "    }\n",
       "</style>\n",
       "<table border=\"1\" class=\"dataframe\">\n",
       "  <thead>\n",
       "    <tr style=\"text-align: right;\">\n",
       "      <th></th>\n",
       "      <th>Borough</th>\n",
       "      <th>Neighborhood</th>\n",
       "    </tr>\n",
       "  </thead>\n",
       "  <tbody>\n",
       "    <tr>\n",
       "      <th>0</th>\n",
       "      <td>Centrum</td>\n",
       "      <td>Binnenstad (Oude Zijde - Nieuwe Zijde) Grachte...</td>\n",
       "    </tr>\n",
       "    <tr>\n",
       "      <th>1</th>\n",
       "      <td>Nieuw-West</td>\n",
       "      <td>Geuzenveld (De Eendracht) Nieuw Sloten Oostoev...</td>\n",
       "    </tr>\n",
       "    <tr>\n",
       "      <th>2</th>\n",
       "      <td>Noord</td>\n",
       "      <td>Banne Buiksloot Buiksloot Buikslotermeer Flora...</td>\n",
       "    </tr>\n",
       "    <tr>\n",
       "      <th>3</th>\n",
       "      <td>Oost</td>\n",
       "      <td>IJburg (Haveneiland - Rieteilanden - Steigerei...</td>\n",
       "    </tr>\n",
       "    <tr>\n",
       "      <th>4</th>\n",
       "      <td>West</td>\n",
       "      <td>Admiralenbuurt Bos en Lommer (Kolenkitbuurt - ...</td>\n",
       "    </tr>\n",
       "    <tr>\n",
       "      <th>5</th>\n",
       "      <td>Zuid</td>\n",
       "      <td>Apollobuurt Buitenveldert Hoofddorppleinbuurt ...</td>\n",
       "    </tr>\n",
       "    <tr>\n",
       "      <th>6</th>\n",
       "      <td>Zuidoost</td>\n",
       "      <td>Bijlmer Bullewijk Driemond Gaasperdam Holendre...</td>\n",
       "    </tr>\n",
       "    <tr>\n",
       "      <th>7</th>\n",
       "      <td>Westpoort</td>\n",
       "      <td>Teleport Westelijk Havengebied (Ruigoord)</td>\n",
       "    </tr>\n",
       "  </tbody>\n",
       "</table>\n",
       "</div>"
      ],
      "text/plain": [
       "      Borough                                       Neighborhood\n",
       "0     Centrum  Binnenstad (Oude Zijde - Nieuwe Zijde) Grachte...\n",
       "1  Nieuw-West  Geuzenveld (De Eendracht) Nieuw Sloten Oostoev...\n",
       "2       Noord  Banne Buiksloot Buiksloot Buikslotermeer Flora...\n",
       "3        Oost  IJburg (Haveneiland - Rieteilanden - Steigerei...\n",
       "4        West  Admiralenbuurt Bos en Lommer (Kolenkitbuurt - ...\n",
       "5        Zuid  Apollobuurt Buitenveldert Hoofddorppleinbuurt ...\n",
       "6    Zuidoost  Bijlmer Bullewijk Driemond Gaasperdam Holendre...\n",
       "7   Westpoort          Teleport Westelijk Havengebied (Ruigoord)"
      ]
     },
     "execution_count": 12,
     "metadata": {},
     "output_type": "execute_result"
    }
   ],
   "source": [
    "# Dropping unnecessary rows & columns and rename\n",
    "ne_df = ne_df.drop(['vteNeighborhoods of Amsterdam.2'],1)\n",
    "ne_df = ne_df.drop(ne_df.index[8])\n",
    "ne_df.rename(columns={'vteNeighborhoods of Amsterdam.1':'Neighborhood',\n",
    "                      'vteNeighborhoods of Amsterdam':'Borough'}, inplace=True)\n",
    "\n",
    "ne_df.to_csv('Neighborhoods.csv')\n",
    "ne_df.head(10)"
   ]
  },
  {
   "cell_type": "code",
   "execution_count": 13,
   "id": "82d011f8",
   "metadata": {},
   "outputs": [],
   "source": [
    "# Merging the Borough and Neighborhood tables on \"Borough\" as new ams_df table containing Boroughs, Neighborhood and Population\n",
    "ams_df = pd.merge(bor_df, ne_df, on='Borough')"
   ]
  },
  {
   "cell_type": "code",
   "execution_count": 14,
   "id": "0a4ae187",
   "metadata": {},
   "outputs": [
    {
     "name": "stdout",
     "output_type": "stream",
     "text": [
      "      Borough  Population                                     Neighbourhoods  \\\n",
      "0     Centrum       86422  Binnenstad, Grachtengordel, Haarlemmerbuurt, J...   \n",
      "1       Noord       94766  Banne Buiksloot, Buiksloot, Buikslotermeer, Fl...   \n",
      "2  Nieuw-West      151677  Geuzenveld, Nieuw Sloten, Oostoever, Osdorp, O...   \n",
      "3        Oost      135767  IJburg, Indische Buurt, Eastern Docklands, Oud...   \n",
      "4        West      143842  Frederik Hendrikbuurt, Houthaven, Spaarndammer...   \n",
      "5   Westpoort         192                                          Westpoort   \n",
      "6        Zuid      144432  Apollobuurt, Buitenveldert, Hoofddorppleinbuur...   \n",
      "7    Zuidoost       87854    Bijlmermeer, Venserpolder, Gaasperdam, Driemond   \n",
      "\n",
      "                                        Neighborhood  \n",
      "0  Binnenstad (Oude Zijde - Nieuwe Zijde) Grachte...  \n",
      "1  Banne Buiksloot Buiksloot Buikslotermeer Flora...  \n",
      "2  Geuzenveld (De Eendracht) Nieuw Sloten Oostoev...  \n",
      "3  IJburg (Haveneiland - Rieteilanden - Steigerei...  \n",
      "4  Admiralenbuurt Bos en Lommer (Kolenkitbuurt - ...  \n",
      "5          Teleport Westelijk Havengebied (Ruigoord)  \n",
      "6  Apollobuurt Buitenveldert Hoofddorppleinbuurt ...  \n",
      "7  Bijlmer Bullewijk Driemond Gaasperdam Holendre...  \n"
     ]
    }
   ],
   "source": [
    "print(ams_df)\n",
    "ams_df.to_csv('amsterdam_loc.csv', index=False)"
   ]
  },
  {
   "cell_type": "markdown",
   "id": "b013ab4a",
   "metadata": {},
   "source": [
    "**Decisions after inspecting the data:**\n",
    "- As Amsterdam is a small city we notice that a segmentation based on Neighborhood does not add extra value to the analysis, so we keep Boroughs as baseline, adding the geo-coordinates.\n",
    "- We will also drop Westport borough as this is the port and industrial area of Amsterdam (only 192 persons are living there)."
   ]
  },
  {
   "cell_type": "code",
   "execution_count": 15,
   "id": "8ef80612",
   "metadata": {},
   "outputs": [],
   "source": [
    "# Drop neighborhood from ams_df\n",
    "ams_df = ams_df.drop(['Neighborhood'], 1)\n",
    "ams_df = ams_df.drop(ams_df.index[5])  # removing row index 5"
   ]
  },
  {
   "cell_type": "code",
   "execution_count": 16,
   "id": "9fcac0bf",
   "metadata": {},
   "outputs": [
    {
     "name": "stderr",
     "output_type": "stream",
     "text": [
      "/home/jupyterlab/conda/envs/python/lib/python3.6/site-packages/IPython/core/interactiveshell.py:3072: DtypeWarning: Columns (23,43) have mixed types.Specify dtype option on import or set low_memory=False.\n",
      "  interactivity=interactivity, compiler=compiler, result=result)\n"
     ]
    }
   ],
   "source": [
    "# Loading data downloaded from data.asmterdam.nl with geo-coordinates in new amsgeo_df\n",
    "amsgeo_df = pd.read_csv('ams_locations_nn.csv', sep=',')"
   ]
  },
  {
   "cell_type": "code",
   "execution_count": 18,
   "id": "d75a052d-4d6e-4f20-9a2d-d2894176a1ee",
   "metadata": {},
   "outputs": [
    {
     "data": {
      "text/html": [
       "<div>\n",
       "<style scoped>\n",
       "    .dataframe tbody tr th:only-of-type {\n",
       "        vertical-align: middle;\n",
       "    }\n",
       "\n",
       "    .dataframe tbody tr th {\n",
       "        vertical-align: top;\n",
       "    }\n",
       "\n",
       "    .dataframe thead th {\n",
       "        text-align: right;\n",
       "    }\n",
       "</style>\n",
       "<table border=\"1\" class=\"dataframe\">\n",
       "  <thead>\n",
       "    <tr style=\"text-align: right;\">\n",
       "      <th></th>\n",
       "      <th>Borough</th>\n",
       "      <th>Latitude (WGS84)</th>\n",
       "      <th>Longitude (WGS84)</th>\n",
       "    </tr>\n",
       "  </thead>\n",
       "  <tbody>\n",
       "    <tr>\n",
       "      <th>0</th>\n",
       "      <td>Oost</td>\n",
       "      <td>52,3559240</td>\n",
       "      <td>4,9237822</td>\n",
       "    </tr>\n",
       "    <tr>\n",
       "      <th>1</th>\n",
       "      <td>Zuid</td>\n",
       "      <td>52,3433178</td>\n",
       "      <td>4,9066416</td>\n",
       "    </tr>\n",
       "    <tr>\n",
       "      <th>2</th>\n",
       "      <td>West</td>\n",
       "      <td>52,3642593</td>\n",
       "      <td>4,8745263</td>\n",
       "    </tr>\n",
       "    <tr>\n",
       "      <th>3</th>\n",
       "      <td>Oost</td>\n",
       "      <td>52,3561249</td>\n",
       "      <td>4,9246021</td>\n",
       "    </tr>\n",
       "    <tr>\n",
       "      <th>4</th>\n",
       "      <td>Centrum</td>\n",
       "      <td>52,3615781</td>\n",
       "      <td>4,8907208</td>\n",
       "    </tr>\n",
       "  </tbody>\n",
       "</table>\n",
       "</div>"
      ],
      "text/plain": [
       "   Borough Latitude (WGS84) Longitude (WGS84)\n",
       "0     Oost       52,3559240         4,9237822\n",
       "1     Zuid       52,3433178         4,9066416\n",
       "2     West       52,3642593         4,8745263\n",
       "3     Oost       52,3561249         4,9246021\n",
       "4  Centrum       52,3615781         4,8907208"
      ]
     },
     "execution_count": 18,
     "metadata": {},
     "output_type": "execute_result"
    }
   ],
   "source": [
    "amsgeo_df = amsgeo_df.drop(['Huisnummertoevoeging','Code stadsdeel','Code gebiedsgerichtwerkengebied','Naam gebiedsgerichtwerkengebied',\n",
    "                            'Naam Wijk','Code Wijk','Naam buurt','Code buurt','Code bouwblok','X-coordinaat (RD)','Y-coordinaat (RD)','Type adres',\n",
    "                            'Gebruiksdoel','Gebruiksdoel woonfunctie','Gebruiksdoel gezondheidszorgfunctie','Aantal eenheden complex',\n",
    "                            'Soort object (feitelijk gebruik)','Aantal kamers','Toegang','Verdieping toegang','Aantal bouwlagen','Hoogste bouwlaag',\n",
    "                            'Laagste bouwlaag','Oppervlakte (m2)','Oorspronkelijk bouwjaar','Eigendomsverhouding','Naam pand',\n",
    "                            'Type woonobject','Ligging','Objecttype','Verblijfsobjectstatus','Geconstateerd','In Onderzoek',\n",
    "                            'Openbareruimte-identificatie','Pandidentificatie','Verblijfsobjectidentificatie','Ligplaatsidentificatie',\n",
    "                            'Standplaatsidentificatie','Nummeraanduidingidentificatie','Unnamed: 0','Naam openbare ruimte','Huisnummer','Huisletter',\n",
    "                            'Postcode','Woonplaats'], 1)\n",
    "amsgeo_df.head()"
   ]
  },
  {
   "cell_type": "code",
   "execution_count": 22,
   "id": "5beff74b-b26b-40d5-8ec7-5833902109ad",
   "metadata": {},
   "outputs": [],
   "source": [
    "# Compiling final \"amsdata_df\" holding Borough, Pupulation and Geo-Coordinates information\n",
    "amsdata_df = pd.merge(ams_df, amsgeo_df, on='Borough')"
   ]
  },
  {
   "cell_type": "code",
   "execution_count": 23,
   "id": "7789414a-bb91-4c77-9769-b33fe503924b",
   "metadata": {},
   "outputs": [
    {
     "data": {
      "text/html": [
       "<div>\n",
       "<style scoped>\n",
       "    .dataframe tbody tr th:only-of-type {\n",
       "        vertical-align: middle;\n",
       "    }\n",
       "\n",
       "    .dataframe tbody tr th {\n",
       "        vertical-align: top;\n",
       "    }\n",
       "\n",
       "    .dataframe thead th {\n",
       "        text-align: right;\n",
       "    }\n",
       "</style>\n",
       "<table border=\"1\" class=\"dataframe\">\n",
       "  <thead>\n",
       "    <tr style=\"text-align: right;\">\n",
       "      <th></th>\n",
       "      <th>Borough</th>\n",
       "      <th>Population</th>\n",
       "      <th>Neighbourhoods</th>\n",
       "      <th>Latitude (WGS84)</th>\n",
       "      <th>Longitude (WGS84)</th>\n",
       "    </tr>\n",
       "  </thead>\n",
       "  <tbody>\n",
       "    <tr>\n",
       "      <th>0</th>\n",
       "      <td>Centrum</td>\n",
       "      <td>86422</td>\n",
       "      <td>Binnenstad, Grachtengordel, Haarlemmerbuurt, J...</td>\n",
       "      <td>52,3615781</td>\n",
       "      <td>4,8907208</td>\n",
       "    </tr>\n",
       "    <tr>\n",
       "      <th>1</th>\n",
       "      <td>Centrum</td>\n",
       "      <td>86422</td>\n",
       "      <td>Binnenstad, Grachtengordel, Haarlemmerbuurt, J...</td>\n",
       "      <td>52,3618730</td>\n",
       "      <td>4,8903211</td>\n",
       "    </tr>\n",
       "    <tr>\n",
       "      <th>2</th>\n",
       "      <td>Centrum</td>\n",
       "      <td>86422</td>\n",
       "      <td>Binnenstad, Grachtengordel, Haarlemmerbuurt, J...</td>\n",
       "      <td>52,3593809</td>\n",
       "      <td>4,8897325</td>\n",
       "    </tr>\n",
       "    <tr>\n",
       "      <th>3</th>\n",
       "      <td>Centrum</td>\n",
       "      <td>86422</td>\n",
       "      <td>Binnenstad, Grachtengordel, Haarlemmerbuurt, J...</td>\n",
       "      <td>52,3594000</td>\n",
       "      <td>4,8900112</td>\n",
       "    </tr>\n",
       "    <tr>\n",
       "      <th>4</th>\n",
       "      <td>Centrum</td>\n",
       "      <td>86422</td>\n",
       "      <td>Binnenstad, Grachtengordel, Haarlemmerbuurt, J...</td>\n",
       "      <td>52,3777255</td>\n",
       "      <td>4,8814053</td>\n",
       "    </tr>\n",
       "  </tbody>\n",
       "</table>\n",
       "</div>"
      ],
      "text/plain": [
       "   Borough  Population                                     Neighbourhoods  \\\n",
       "0  Centrum       86422  Binnenstad, Grachtengordel, Haarlemmerbuurt, J...   \n",
       "1  Centrum       86422  Binnenstad, Grachtengordel, Haarlemmerbuurt, J...   \n",
       "2  Centrum       86422  Binnenstad, Grachtengordel, Haarlemmerbuurt, J...   \n",
       "3  Centrum       86422  Binnenstad, Grachtengordel, Haarlemmerbuurt, J...   \n",
       "4  Centrum       86422  Binnenstad, Grachtengordel, Haarlemmerbuurt, J...   \n",
       "\n",
       "  Latitude (WGS84) Longitude (WGS84)  \n",
       "0       52,3615781         4,8907208  \n",
       "1       52,3618730         4,8903211  \n",
       "2       52,3593809         4,8897325  \n",
       "3       52,3594000         4,8900112  \n",
       "4       52,3777255         4,8814053  "
      ]
     },
     "execution_count": 23,
     "metadata": {},
     "output_type": "execute_result"
    }
   ],
   "source": [
    "# Display and save \"amsdata_df\"\n",
    "amsdata_df.to_csv('amsdata_df.csv', index=False)\n",
    "amsdata_df.head()"
   ]
  },
  {
   "cell_type": "code",
   "execution_count": 24,
   "id": "5ce02133-8e5a-4628-aee7-93997098052c",
   "metadata": {},
   "outputs": [
    {
     "data": {
      "text/html": [
       "<div>\n",
       "<style scoped>\n",
       "    .dataframe tbody tr th:only-of-type {\n",
       "        vertical-align: middle;\n",
       "    }\n",
       "\n",
       "    .dataframe tbody tr th {\n",
       "        vertical-align: top;\n",
       "    }\n",
       "\n",
       "    .dataframe thead th {\n",
       "        text-align: right;\n",
       "    }\n",
       "</style>\n",
       "<table border=\"1\" class=\"dataframe\">\n",
       "  <thead>\n",
       "    <tr style=\"text-align: right;\">\n",
       "      <th></th>\n",
       "      <th>Borough</th>\n",
       "      <th>Population</th>\n",
       "      <th>Neighbourhoods</th>\n",
       "      <th>Latitude</th>\n",
       "      <th>Longitude</th>\n",
       "    </tr>\n",
       "  </thead>\n",
       "  <tbody>\n",
       "    <tr>\n",
       "      <th>0</th>\n",
       "      <td>Centrum</td>\n",
       "      <td>86422</td>\n",
       "      <td>Binnenstad, Grachtengordel, Haarlemmerbuurt, J...</td>\n",
       "      <td>52,3615781</td>\n",
       "      <td>4,8907208</td>\n",
       "    </tr>\n",
       "    <tr>\n",
       "      <th>1</th>\n",
       "      <td>Centrum</td>\n",
       "      <td>86422</td>\n",
       "      <td>Binnenstad, Grachtengordel, Haarlemmerbuurt, J...</td>\n",
       "      <td>52,3618730</td>\n",
       "      <td>4,8903211</td>\n",
       "    </tr>\n",
       "    <tr>\n",
       "      <th>2</th>\n",
       "      <td>Centrum</td>\n",
       "      <td>86422</td>\n",
       "      <td>Binnenstad, Grachtengordel, Haarlemmerbuurt, J...</td>\n",
       "      <td>52,3593809</td>\n",
       "      <td>4,8897325</td>\n",
       "    </tr>\n",
       "    <tr>\n",
       "      <th>3</th>\n",
       "      <td>Centrum</td>\n",
       "      <td>86422</td>\n",
       "      <td>Binnenstad, Grachtengordel, Haarlemmerbuurt, J...</td>\n",
       "      <td>52,3594000</td>\n",
       "      <td>4,8900112</td>\n",
       "    </tr>\n",
       "    <tr>\n",
       "      <th>4</th>\n",
       "      <td>Centrum</td>\n",
       "      <td>86422</td>\n",
       "      <td>Binnenstad, Grachtengordel, Haarlemmerbuurt, J...</td>\n",
       "      <td>52,3777255</td>\n",
       "      <td>4,8814053</td>\n",
       "    </tr>\n",
       "  </tbody>\n",
       "</table>\n",
       "</div>"
      ],
      "text/plain": [
       "   Borough  Population                                     Neighbourhoods  \\\n",
       "0  Centrum       86422  Binnenstad, Grachtengordel, Haarlemmerbuurt, J...   \n",
       "1  Centrum       86422  Binnenstad, Grachtengordel, Haarlemmerbuurt, J...   \n",
       "2  Centrum       86422  Binnenstad, Grachtengordel, Haarlemmerbuurt, J...   \n",
       "3  Centrum       86422  Binnenstad, Grachtengordel, Haarlemmerbuurt, J...   \n",
       "4  Centrum       86422  Binnenstad, Grachtengordel, Haarlemmerbuurt, J...   \n",
       "\n",
       "     Latitude  Longitude  \n",
       "0  52,3615781  4,8907208  \n",
       "1  52,3618730  4,8903211  \n",
       "2  52,3593809  4,8897325  \n",
       "3  52,3594000  4,8900112  \n",
       "4  52,3777255  4,8814053  "
      ]
     },
     "execution_count": 24,
     "metadata": {},
     "output_type": "execute_result"
    }
   ],
   "source": [
    "# Dropping unnecessary rows & columns and rename\n",
    "amsdata_df.rename(columns={'Latitude (WGS84)':'Latitude', 'Longitude (WGS84)':'Longitude'}, inplace=True)\n",
    "amsdata_df.head()"
   ]
  },
  {
   "cell_type": "code",
   "execution_count": 25,
   "id": "a53b8a1e",
   "metadata": {},
   "outputs": [],
   "source": [
    "CLIENT_ID = 'ASGWICHNKBWGV3YPDCE3PCDTYKG5MWRLH51ZFXRQ0TZYWOUN' # Foursquare ID\n",
    "CLIENT_SECRET = 'H5R5ADLASHKYVAEUOY4FAT314YKUDW2MULDUAXR5WCJMTXGC' # Foursquare Secret\n",
    "VERSION = '20210516'\n",
    "LIMIT = 30"
   ]
  },
  {
   "cell_type": "code",
   "execution_count": 26,
   "id": "60d87d78",
   "metadata": {},
   "outputs": [
    {
     "name": "stdout",
     "output_type": "stream",
     "text": [
      "Amsterdam Geographical coordinates are Lat=52.3727598, Lng=4.8936041 \n"
     ]
    }
   ],
   "source": [
    "address = 'Amsterdam, NL'\n",
    "\n",
    "geolocator = Nominatim(user_agent=\"Foursquare_agent\")\n",
    "location = geolocator.geocode(address)\n",
    "ams_latitude = location.latitude\n",
    "ams_longitude = location.longitude\n",
    "print('Amsterdam Geographical coordinates are Lat={}, Lng={} '.format(ams_latitude, ams_longitude))"
   ]
  },
  {
   "cell_type": "code",
   "execution_count": 27,
   "id": "32fee922-23e0-430b-b9a0-152662dff996",
   "metadata": {},
   "outputs": [
    {
     "data": {
      "text/html": [
       "<div>\n",
       "<style scoped>\n",
       "    .dataframe tbody tr th:only-of-type {\n",
       "        vertical-align: middle;\n",
       "    }\n",
       "\n",
       "    .dataframe tbody tr th {\n",
       "        vertical-align: top;\n",
       "    }\n",
       "\n",
       "    .dataframe thead th {\n",
       "        text-align: right;\n",
       "    }\n",
       "</style>\n",
       "<table border=\"1\" class=\"dataframe\">\n",
       "  <thead>\n",
       "    <tr style=\"text-align: right;\">\n",
       "      <th></th>\n",
       "      <th>Borough</th>\n",
       "      <th>Population</th>\n",
       "      <th>Neighbourhoods</th>\n",
       "      <th>Latitude</th>\n",
       "      <th>Longitude</th>\n",
       "    </tr>\n",
       "  </thead>\n",
       "  <tbody>\n",
       "    <tr>\n",
       "      <th>531264</th>\n",
       "      <td>Zuidoost</td>\n",
       "      <td>87854</td>\n",
       "      <td>Bijlmermeer, Venserpolder, Gaasperdam, Driemond</td>\n",
       "      <td>52,3071879</td>\n",
       "      <td>4,9460298</td>\n",
       "    </tr>\n",
       "    <tr>\n",
       "      <th>531265</th>\n",
       "      <td>Zuidoost</td>\n",
       "      <td>87854</td>\n",
       "      <td>Bijlmermeer, Venserpolder, Gaasperdam, Driemond</td>\n",
       "      <td>52,3072220</td>\n",
       "      <td>4,9461808</td>\n",
       "    </tr>\n",
       "    <tr>\n",
       "      <th>531266</th>\n",
       "      <td>Zuidoost</td>\n",
       "      <td>87854</td>\n",
       "      <td>Bijlmermeer, Venserpolder, Gaasperdam, Driemond</td>\n",
       "      <td>52,3072309</td>\n",
       "      <td>4,9459327</td>\n",
       "    </tr>\n",
       "    <tr>\n",
       "      <th>531267</th>\n",
       "      <td>Zuidoost</td>\n",
       "      <td>87854</td>\n",
       "      <td>Bijlmermeer, Venserpolder, Gaasperdam, Driemond</td>\n",
       "      <td>52,3073366</td>\n",
       "      <td>4,9462184</td>\n",
       "    </tr>\n",
       "    <tr>\n",
       "      <th>531268</th>\n",
       "      <td>Zuidoost</td>\n",
       "      <td>87854</td>\n",
       "      <td>Bijlmermeer, Venserpolder, Gaasperdam, Driemond</td>\n",
       "      <td>52,3073600</td>\n",
       "      <td>4,9461247</td>\n",
       "    </tr>\n",
       "  </tbody>\n",
       "</table>\n",
       "</div>"
      ],
      "text/plain": [
       "         Borough  Population                                   Neighbourhoods  \\\n",
       "531264  Zuidoost       87854  Bijlmermeer, Venserpolder, Gaasperdam, Driemond   \n",
       "531265  Zuidoost       87854  Bijlmermeer, Venserpolder, Gaasperdam, Driemond   \n",
       "531266  Zuidoost       87854  Bijlmermeer, Venserpolder, Gaasperdam, Driemond   \n",
       "531267  Zuidoost       87854  Bijlmermeer, Venserpolder, Gaasperdam, Driemond   \n",
       "531268  Zuidoost       87854  Bijlmermeer, Venserpolder, Gaasperdam, Driemond   \n",
       "\n",
       "          Latitude  Longitude  \n",
       "531264  52,3071879  4,9460298  \n",
       "531265  52,3072220  4,9461808  \n",
       "531266  52,3072309  4,9459327  \n",
       "531267  52,3073366  4,9462184  \n",
       "531268  52,3073600  4,9461247  "
      ]
     },
     "execution_count": 27,
     "metadata": {},
     "output_type": "execute_result"
    }
   ],
   "source": [
    "amsdata_df.tail()"
   ]
  },
  {
   "cell_type": "code",
   "execution_count": 28,
   "id": "5701d4a1",
   "metadata": {},
   "outputs": [],
   "source": [
    "def getNearbyVenues (names, latitude, longitude, radius=2000, limit=100, query='Restaurant'):\n",
    "    \n",
    "    venue_lst=[] # initialize empty list\n",
    "    \n",
    "    for name, lat, lng in zip (names, latitude, longitude):\n",
    "        print(name)\n",
    "        \n",
    "    \n",
    "        # Foursuare API explore generated per Neighbourhood lat / lng passed from toronto_df\n",
    "        url = 'https://api.foursquare.com/v2/venues/explore?&client_id={}&client_secret={}&v={}&ll={},{}&radius={}&limit={}&query={}'.format(\n",
    "            CLIENT_ID, \n",
    "            CLIENT_SECRET, \n",
    "            VERSION, \n",
    "            lat, \n",
    "            lng, \n",
    "            radius, \n",
    "            LIMIT,\n",
    "            query)\n",
    "        \n",
    "        # Get request\n",
    "        results = requests.get(url).json()[\"response\"]['groups'][0]['items']\n",
    "                \n",
    "        # return only relevant information for each nearby venue in the preliminary list\n",
    "        venue_lst.append([(\n",
    "            name, \n",
    "            lat, \n",
    "            lng, \n",
    "            v['venue']['name'], \n",
    "            v['venue']['location']['lat'], \n",
    "            v['venue']['location']['lng'],  \n",
    "            v['venue']['categories'][0]['name']) for v in results])\n",
    "\n",
    "    venue_df = pd.DataFrame([item for venue_lst in venue_lst for item in venue_lst])\n",
    "    venue_df.columns = ['Borough', \n",
    "                  'Borough Lat', \n",
    "                  'Borough Lng', \n",
    "                  'Venue', \n",
    "                  'Venue Lat', \n",
    "                  'Venue Lng', \n",
    "                  'Venue Category']\n",
    "\n",
    "    print('{} venues were returned by Foursquare.'.format(venue_df.shape[0]))\n",
    "    \n",
    "    return (venue_df)"
   ]
  },
  {
   "cell_type": "code",
   "execution_count": null,
   "id": "69ca06e4-0f88-41cb-b5e6-ca6677cdce9f",
   "metadata": {},
   "outputs": [],
   "source": [
    "amsterdam_venues_df = getNearbyVenues (names=amsdata_df['Borough'], \n",
    "                                     latitude=amsdata_df['Latitude'], \n",
    "                                     longitude=amsdata_df['Longitude'])"
   ]
  },
  {
   "cell_type": "code",
   "execution_count": null,
   "id": "46c59336-3598-4d7f-8664-d975e4325544",
   "metadata": {},
   "outputs": [],
   "source": [
    "# checking amsterdam_venues dataframe size and summary content\n",
    "print(amsterdam_venues_df.shape)\n",
    "amsterdam_venues_df.head(10)"
   ]
  },
  {
   "cell_type": "code",
   "execution_count": null,
   "id": "82495b5b-24dc-4420-b45f-0f2d6761da67",
   "metadata": {},
   "outputs": [],
   "source": [
    "# Optional: Saving amsterdam_venues_df\n",
    "amsterdam_venues_df.to_csv('amsterdam_venues.csv', index=False)"
   ]
  },
  {
   "cell_type": "code",
   "execution_count": null,
   "id": "c3e122e5-0056-4e0c-a867-a237783a47ed",
   "metadata": {},
   "outputs": [],
   "source": [
    "print('There are {} uniques food serving categories.'.format(len(amsterdam_venues_df['Venue Category'].unique())))"
   ]
  },
  {
   "cell_type": "code",
   "execution_count": null,
   "id": "0577e934-fd40-46ba-a16d-c4ef5dfab522",
   "metadata": {},
   "outputs": [],
   "source": [
    "# Class distributions for 'Venue Category'\n",
    "\n",
    "plt.figure(figsize=(15,20))\n",
    "sns.countplot (y='Venue Category', data=amsterdam_venues_df)\n",
    "\n",
    "plt.show()"
   ]
  },
  {
   "cell_type": "code",
   "execution_count": null,
   "id": "ed29f5cd-e687-4d77-b5d0-3e95880a9360",
   "metadata": {},
   "outputs": [],
   "source": [
    "amsterdam_venues_df.groupby('Borough').count()"
   ]
  },
  {
   "cell_type": "code",
   "execution_count": null,
   "id": "50455cd1-30c6-45fc-8d1e-c1b5c3bd2b21",
   "metadata": {},
   "outputs": [],
   "source": [
    "# groupby 'Borough' and 'Venue Category' .size()\n",
    "amsterdam_venues_df.groupby(['Borough','Venue Category']).size()"
   ]
  },
  {
   "cell_type": "code",
   "execution_count": null,
   "id": "49213a3a-b251-49f7-a13a-0ede9281a7b3",
   "metadata": {},
   "outputs": [],
   "source": [
    "amsterdam_rest_df = amsterdam_venues_df[amsterdam_venues_df['Venue Category'].str.contains('Restaurant')]"
   ]
  },
  {
   "cell_type": "code",
   "execution_count": null,
   "id": "fcd0d53a-0103-46b2-be38-cd8da5ea04b0",
   "metadata": {},
   "outputs": [],
   "source": [
    "# checking amsterdam_rest dataframe size and summary content\n",
    "print(amsterdam_rest_df.shape)\n",
    "amsterdam_rest_df.head(10)"
   ]
  },
  {
   "cell_type": "code",
   "execution_count": null,
   "id": "1cff4512-8fa3-40dc-9a77-5d65543820f8",
   "metadata": {},
   "outputs": [],
   "source": [
    "# Optional: Saving amsterdam_rest_df\n",
    "amsterdam_rest_df.to_csv('amsterdam_rest.csv', index=False)"
   ]
  },
  {
   "cell_type": "code",
   "execution_count": null,
   "id": "03006e6a-95af-4678-9712-a1625b34f674",
   "metadata": {},
   "outputs": [],
   "source": [
    "amsterdam_rest_map = folium.Map(location=[ams_latitude, ams_longitude], zoom_start=12, control_scale = True)\n",
    "\n",
    "# Toronto map markers (tag's)\n",
    "for lat, lng, Borough, venue in zip(amsterdam_rest_df['Venue Lat'], amsterdam_rest_df['Venue Lng'], amsterdam_rest_df['Borough'], amsterdam_rest_df['Venue']):\n",
    "    tag = '{}'.format(Borough)\n",
    "    tag = folium.Popup(tag, parse_html=True)\n",
    "    folium.CircleMarker(\n",
    "        [lat, lng],\n",
    "        radius=1,\n",
    "        popup=tag,\n",
    "        color='blue',\n",
    "        fill=True,\n",
    "        fill_color='#3186cc',\n",
    "        fill_opacity=0.7,\n",
    "        parse_html=False).add_to(amsterdam_rest_map)\n",
    "\n",
    "# adding a folium feature allowing location, and coordinates shown with mouse-over and \n",
    "# mouse click on the map \n",
    "amsterdam_rest_map.add_child(folium.LatLngPopup())\n",
    "    \n",
    "amsterdam_rest_map"
   ]
  },
  {
   "cell_type": "code",
   "execution_count": null,
   "id": "d1aef306-7d44-48c0-9083-0e8969288bee",
   "metadata": {},
   "outputs": [],
   "source": [
    "amsterdam_rest_df.groupby('Borough').count()"
   ]
  },
  {
   "cell_type": "code",
   "execution_count": null,
   "id": "fc9333ee-2252-41ce-a3ae-86faef67705a",
   "metadata": {},
   "outputs": [],
   "source": [
    "# Class distributions for Borough and Number of Restaurants\n",
    "plt.figure(figsize=(10,4))\n",
    "sns.countplot (y='Borough', data=amsterdam_rest_df)\n",
    "plt.xlabel('Number of Restaurants')\n",
    "\n",
    "plt.show()"
   ]
  },
  {
   "cell_type": "code",
   "execution_count": null,
   "id": "160f5ba9-7fc0-4d13-a84c-84b284352f16",
   "metadata": {},
   "outputs": [],
   "source": [
    "# Overall Class distribution for 'Venue Category' for Nieuw-West Borough\n",
    "\n",
    "plt.figure(figsize=(10,6))\n",
    "sns.countplot (y='Venue Category', data=amsterdam_rest_df[amsterdam_rest_df['Borough'].str.contains('Nieuw-West')])\n",
    "plt.xlabel('Nieuw_West')\n",
    "plt.show()"
   ]
  },
  {
   "cell_type": "code",
   "execution_count": null,
   "id": "5de0885e-0052-4297-b8f1-22d3cfbcd12d",
   "metadata": {},
   "outputs": [],
   "source": [
    "# Overall Class distribution for 'Venue Category' in all amsterdam_rest_df dataset\n",
    "plt.figure(figsize=(10,15))\n",
    "sns.countplot (y='Venue Category', data=amsterdam_rest_df)\n",
    "plt.xlabel('Number of Restaurants')\n",
    "plt.show()"
   ]
  },
  {
   "cell_type": "code",
   "execution_count": null,
   "id": "00ed926e-5abd-4e98-8e6a-62a382847c1b",
   "metadata": {},
   "outputs": [],
   "source": [
    "# groupby 'Borough' and 'Venue Category' .size()\n",
    "amsterdam_rest_df.groupby(['Borough','Venue Category']).size()"
   ]
  },
  {
   "cell_type": "code",
   "execution_count": null,
   "id": "133901d8-390f-40a2-8026-364e7fcf2830",
   "metadata": {},
   "outputs": [],
   "source": [
    "print('There are {} uniques Restarant categories.'.format(len(amsterdam_rest_df['Venue Category'].unique())))"
   ]
  },
  {
   "cell_type": "code",
   "execution_count": null,
   "id": "26be1490-0639-442d-950a-aacf9eca0d1a",
   "metadata": {},
   "outputs": [],
   "source": [
    "# one hot encoding of the Venue Category\n",
    "amsterdam_onehot = pd.get_dummies(amsterdam_rest_df[['Venue Category']], prefix=\"\", prefix_sep=\"\")\n",
    "\n",
    "# add borough column back to dataframe\n",
    "amsterdam_onehot['Borough'] = amsterdam_rest_df['Borough'] \n",
    "\n",
    "# move borough column to the first column\n",
    "fixed_columns = [amsterdam_onehot.columns[-1]] + list(amsterdam_onehot.columns[:-1])\n",
    "amsterdam_onehot = amsterdam_onehot[fixed_columns]\n",
    "\n",
    "amsterdam_onehot.head()"
   ]
  },
  {
   "cell_type": "code",
   "execution_count": null,
   "id": "0d74d35b-ee38-4362-b8c7-8bac7eab8db6",
   "metadata": {},
   "outputs": [],
   "source": [
    "# Number of venues encoded\n",
    "print('{} venues encoded.'.format(amsterdam_onehot.shape[0]-1))\n",
    "# Shape of encoded dataframe\n",
    "print('Shape amsterdam_onehot:', amsterdam_onehot.shape)"
   ]
  },
  {
   "cell_type": "code",
   "execution_count": null,
   "id": "fd0a7bc2-a1ad-4e95-abda-fdaf5639a49d",
   "metadata": {},
   "outputs": [],
   "source": [
    "# Optional - save the encoded df\n",
    "amsterdam_onehot.to_csv('amsterdam_onehot.csv', index=False)"
   ]
  },
  {
   "cell_type": "code",
   "execution_count": null,
   "id": "de620c4e-0593-4737-a3e6-d9dcf1028ebe",
   "metadata": {},
   "outputs": [],
   "source": [
    "amsterdam_grouped = amsterdam_onehot.groupby('Borough').mean().reset_index()\n",
    "\n",
    "# Display the grouped dataframe\n",
    "amsterdam_grouped"
   ]
  },
  {
   "cell_type": "code",
   "execution_count": null,
   "id": "3e1d9e82-fc46-4caf-8688-7d5a8e49d11d",
   "metadata": {},
   "outputs": [],
   "source": [
    "amsterdam_grouped.groupby(['Borough','Restaurant']).sum()"
   ]
  },
  {
   "cell_type": "code",
   "execution_count": null,
   "id": "b009c552-13e1-4d25-af31-dfd5302715c1",
   "metadata": {},
   "outputs": [],
   "source": [
    "num_top_venues = 10\n",
    "\n",
    "for place in amsterdam_grouped['Borough']:\n",
    "    print(\"----\"+place+\"----\")\n",
    "    temp = amsterdam_grouped[amsterdam_grouped['Borough'] == place].T.reset_index()\n",
    "    temp.columns = ['venue','freq']\n",
    "    temp = temp.iloc[1:]\n",
    "    # print(temp)\n",
    "    temp['freq'] = temp['freq'].astype(float)\n",
    "    temp = temp.round({'freq': 2})\n",
    "    print(temp.sort_values('freq', ascending=False).reset_index(drop=True).head(num_top_venues))\n",
    "    print('\\n')"
   ]
  },
  {
   "cell_type": "code",
   "execution_count": null,
   "id": "921e488e-2e82-4eef-8599-a21dbd14c9a6",
   "metadata": {},
   "outputs": [],
   "source": [
    "def return_most_common_venues(row, num_top_venues):\n",
    "    row_categories = row.iloc[1:]\n",
    "    row_categories_sorted = row_categories.sort_values(ascending=False)\n",
    "    \n",
    "    return row_categories_sorted.index.values[0:num_top_venues]"
   ]
  },
  {
   "cell_type": "code",
   "execution_count": null,
   "id": "394ed4f1-d176-4a68-b8a3-36d8e5c4986b",
   "metadata": {},
   "outputs": [],
   "source": [
    "num_top_venues = 10\n",
    "\n",
    "indicators = ['st', 'nd', 'rd']\n",
    "\n",
    "# create columns according to number of top venues\n",
    "columns = ['Borough']\n",
    "for ind in np.arange(num_top_venues):\n",
    "    try:\n",
    "        columns.append('{}{} Most Common Venue'.format(ind+1, indicators[ind]))\n",
    "    except:\n",
    "        columns.append('{}th Most Common Venue'.format(ind+1))\n",
    "\n",
    "# create a new dataframe\n",
    "boroughs_venues_sorted = pd.DataFrame(columns=columns)\n",
    "boroughs_venues_sorted['Borough'] = amsterdam_grouped['Borough']\n",
    "\n",
    "for ind in np.arange(amsterdam_grouped.shape[0]):\n",
    "    boroughs_venues_sorted.iloc[ind, 1:] = return_most_common_venues(amsterdam_grouped.iloc[ind, :], num_top_venues)\n",
    "\n",
    "boroughs_venues_sorted"
   ]
  },
  {
   "cell_type": "code",
   "execution_count": null,
   "id": "18133c37-6ff3-453b-b8ab-cd93e71827a2",
   "metadata": {},
   "outputs": [],
   "source": [
    "# preparing the data for clustering - dropping the Borough column as it is not required\n",
    "amsterdam_grouped_clustering = amsterdam_grouped.drop('Borough', 1)\n",
    "amsterdam_grouped_clustering"
   ]
  },
  {
   "cell_type": "code",
   "execution_count": null,
   "id": "6d089836-6a01-4392-8f73-f59f0faa394c",
   "metadata": {},
   "outputs": [],
   "source": [
    "# Identify optiomal k using inertia. \n",
    "# We test range 1 to K clusters\n",
    "\n",
    "inertias = [] \n",
    "mapping = {} \n",
    "K = range(1,7) \n",
    "\n",
    "for k in K: \n",
    "    #Building and fitting the model \n",
    "    kmeanModel = KMeans(n_clusters=k, n_init=50, max_iter=600, tol=0.0001, random_state=0)\n",
    "    kmeanModel.fit(amsterdam_grouped_clustering)\n",
    "\n",
    "    inertias.append(kmeanModel.inertia_) \n",
    "\n",
    "    # Inertia\n",
    "    mapping[k] = kmeanModel.inertia_"
   ]
  },
  {
   "cell_type": "code",
   "execution_count": null,
   "id": "ae880600-2555-4499-a4c3-a64be5766272",
   "metadata": {},
   "outputs": [],
   "source": [
    "for key,val in mapping.items(): \n",
    "    print(str(key)+' : '+str(val))"
   ]
  },
  {
   "cell_type": "code",
   "execution_count": null,
   "id": "5add4fce-f99e-41e6-9877-31ba1df47744",
   "metadata": {},
   "outputs": [],
   "source": [
    "# plt.figure(figsize=(20,10))\n",
    "plt.plot(K, inertias, 'bx-') \n",
    "plt.xlabel('Values of K') \n",
    "plt.ylabel('Inertia') \n",
    "plt.title('The Elbow Method using Inertia') \n",
    "plt.show()"
   ]
  },
  {
   "cell_type": "code",
   "execution_count": null,
   "id": "fd98b8db-8525-4602-a804-279849d3183a",
   "metadata": {},
   "outputs": [],
   "source": [
    "# set the number of clusters\n",
    "kclusters = 3\n",
    "\n",
    "# amsterdam_grouped_clustering = amsterdam_grouped.drop('Borough', 1)\n",
    "\n",
    "# run k-means clustering\n",
    "kmeans = KMeans(n_clusters=kclusters, n_init=50, max_iter=600, tol=0.0001, random_state=0)\n",
    "\n",
    "kmeans.fit(amsterdam_grouped_clustering)\n",
    "\n",
    "# check cluster labels generated for each row in the dataframe\n",
    "kmeans.labels_[0:20]"
   ]
  },
  {
   "cell_type": "code",
   "execution_count": null,
   "id": "5b808e7b-cfea-4c83-83ad-30f6857148fe",
   "metadata": {},
   "outputs": [],
   "source": [
    "# add clustering labels\n",
    "boroughs_venues_sorted.insert(0, 'Cluster_Labels', kmeans.labels_)\n",
    "\n",
    "amsterdam_merged = amsdata_df\n",
    "\n",
    "# merge toronto_grouped with toronto_data to add latitude/longitude for each neighborhood\n",
    "amsterdam_merged = amsterdam_merged.join(boroughs_venues_sorted.set_index('Borough'), on='Borough')\n",
    "\n",
    "amsterdam_merged.head() # check the last columns!"
   ]
  },
  {
   "cell_type": "code",
   "execution_count": null,
   "id": "4ad9aff6-b54c-4f4c-911a-7f94a5c429c9",
   "metadata": {},
   "outputs": [],
   "source": [
    "# create map\n",
    "map_clusters = folium.Map(location=[ams_latitude, ams_longitude], zoom_start=11)\n",
    "\n",
    "# set color scheme for the clusters\n",
    "x = np.arange(kclusters)\n",
    "ys = [i + x + (i*x)**2 for i in range(kclusters)]\n",
    "colors_array = cm.rainbow(np.linspace(0, 1, len(ys)))\n",
    "rainbow = [colors.rgb2hex(i) for i in colors_array]\n",
    "\n",
    "# add markers to the map\n",
    "markers_colors = []\n",
    "for lat, lon, poi, cluster in zip(amsterdam_merged['Latitude'], amsterdam_merged['Longitude'], amsterdam_merged['Borough'], amsterdam_merged['Cluster_Labels']):\n",
    "    label = folium.Popup(str(poi) + ' Cluster ' + str(cluster), parse_html=True)\n",
    "    folium.CircleMarker(\n",
    "        [lat, lon],\n",
    "        radius=10,\n",
    "        popup=label,\n",
    "        color=rainbow[cluster-1],\n",
    "        fill=True,\n",
    "        fill_color=rainbow[cluster-1],\n",
    "        fill_opacity=0.7).add_to(map_clusters)\n",
    "\n",
    "for lat, lng, Borough, venue in zip(amsterdam_rest_df['Venue Lat'], amsterdam_rest_df['Venue Lng'], amsterdam_rest_df['Borough'], amsterdam_rest_df['Venue']):\n",
    "    tag = '{}'.format(Borough)\n",
    "    tag = folium.Popup(tag, parse_html=True)\n",
    "    folium.CircleMarker(\n",
    "        [lat, lng],\n",
    "        radius=0.5,\n",
    "        popup=tag,\n",
    "        color='blue',\n",
    "        fill=True,\n",
    "        fill_color='#3186cc',\n",
    "        fill_opacity=0.7,\n",
    "        parse_html=False).add_to(map_clusters)\n",
    "       \n",
    "map_clusters"
   ]
  },
  {
   "cell_type": "code",
   "execution_count": null,
   "id": "039d8203-6d04-402c-a0c0-c8662dee5649",
   "metadata": {},
   "outputs": [],
   "source": []
  },
  {
   "cell_type": "code",
   "execution_count": null,
   "id": "56d98034-65f9-41c9-8d3d-29a7efb0e1f0",
   "metadata": {},
   "outputs": [],
   "source": []
  }
 ],
 "metadata": {
  "kernelspec": {
   "display_name": "Python",
   "language": "python",
   "name": "conda-env-python-py"
  },
  "language_info": {
   "codemirror_mode": {
    "name": "ipython",
    "version": 3
   },
   "file_extension": ".py",
   "mimetype": "text/x-python",
   "name": "python",
   "nbconvert_exporter": "python",
   "pygments_lexer": "ipython3",
   "version": "3.6.13"
  }
 },
 "nbformat": 4,
 "nbformat_minor": 5
}
